{
  "nbformat": 4,
  "nbformat_minor": 0,
  "metadata": {
    "colab": {
      "name": "Mine: Question4_MLSP_HW1.ipynb",
      "provenance": [],
      "collapsed_sections": []
    },
    "kernelspec": {
      "name": "python3",
      "display_name": "Python 3"
    },
    "language_info": {
      "name": "python"
    }
  },
  "cells": [
    {
      "cell_type": "markdown",
      "source": [
        "Importing Image Data "
      ],
      "metadata": {
        "id": "6nYAM4XOkC8K"
      }
    },
    {
      "cell_type": "code",
      "execution_count": null,
      "metadata": {
        "colab": {
          "base_uri": "https://localhost:8080/"
        },
        "id": "ysiaWZStIEvF",
        "outputId": "7e6464a4-658d-4d63-cd6e-05cdafd797e1"
      },
      "outputs": [
        {
          "output_type": "stream",
          "name": "stdout",
          "text": [
            "Drive already mounted at /content/drive/; to attempt to forcibly remount, call drive.mount(\"/content/drive/\", force_remount=True).\n"
          ]
        }
      ],
      "source": [
        "from google.colab import drive\n",
        "drive.mount('/content/drive/')"
      ]
    },
    {
      "cell_type": "markdown",
      "source": [
        "Reading all the training data as 100x100 images"
      ],
      "metadata": {
        "id": "uv0Ls33LkHvv"
      }
    },
    {
      "cell_type": "code",
      "source": [
        "import numpy as np\n",
        "import math\n",
        "from PIL import *\n",
        "from PIL import Image\n",
        "import matplotlib.pyplot as plt\n",
        "import matplotlib.image as mpimg\n",
        "happ_loc=['01','02','04','06','07','09','10','12','13']\n",
        "sad_loc=['02','03','04','05','06','07','09','10','11','12','13']\n",
        "happy_images = []\n",
        "for i in happ_loc:\n",
        "  loc='drive/MyDrive/Data/emotion_classification/train/subject'+i+'.happy.gif'\n",
        "  img=Image.open(loc)\n",
        "  img1=img.resize((100,100))\n",
        "  img_arr=np.array(img1)\n",
        "  img_arr=img_arr.reshape(10000,)\n",
        "  happy_images.append(img_arr)\n",
        "happyImages=np.array(happy_images)\n",
        "sad_images = []\n",
        "for i in sad_loc:\n",
        "  loc='drive/MyDrive/Data/emotion_classification/train/subject'+i+'.sad.gif'\n",
        "  img=Image.open(loc)\n",
        "  img1=img.resize((100,100))\n",
        "  img_arr=np.array(img1)\n",
        "  img_arr=img_arr.reshape(10000,)\n",
        "  sad_images.append(img_arr)\n",
        "sadImages=np.array(sad_images)"
      ],
      "metadata": {
        "id": "_0v6hJ1aih82"
      },
      "execution_count": null,
      "outputs": []
    },
    {
      "cell_type": "markdown",
      "source": [
        "Normalizing the images, calculating sample covarince matrix and eigenvalue, eigenvectors for it"
      ],
      "metadata": {
        "id": "yNy2uTcgkzIA"
      }
    },
    {
      "cell_type": "code",
      "source": [
        "happyImages = happyImages/255\n",
        "sadImages = sadImages/255\n",
        "temp1=[]\n",
        "for i in happyImages:\n",
        "  temp1.append(i)\n",
        "for i in sadImages:\n",
        "  temp1.append(i)\n",
        "X=np.array(temp1)\n",
        "X=np.transpose(X)\n",
        "Xm = X.mean(axis=1)\n",
        "Xm = np.reshape(Xm, (10000,1))\n",
        "N=20\n",
        "Sx = np.dot(np.transpose(X - Xm), (X - Xm))/N\n",
        "lambda_all, V_all = np.linalg.eigh(Sx)"
      ],
      "metadata": {
        "id": "B6ZywKuDkydh"
      },
      "execution_count": null,
      "outputs": []
    },
    {
      "cell_type": "markdown",
      "source": [
        "Doing PCA for higher dimension to reduce running time and for efficincy. K=18 gives the best separation as seen by plotting the projection on LDA."
      ],
      "metadata": {
        "id": "2Cu0zlMEIWed"
      }
    },
    {
      "cell_type": "code",
      "source": [
        "idx = np.argsort(lambda_all)\n",
        "idx=idx[::-1]\n",
        "lambdas = lambda_all[idx]\n",
        "V = V_all[:,idx]\n",
        "k = 18  \n",
        "V_PCA = V[:,0:k] "
      ],
      "metadata": {
        "id": "Tnw5XwXogqwM"
      },
      "execution_count": null,
      "outputs": []
    },
    {
      "cell_type": "markdown",
      "source": [
        "Converting lower dimension eigenvectors to higher dimension(dimension of feature vector)"
      ],
      "metadata": {
        "id": "Pe6sdyFIJ_O3"
      }
    },
    {
      "cell_type": "code",
      "source": [
        "U = np.zeros((10000,1)) \n",
        "index = 0\n",
        "for v in np.transpose(V_PCA):\n",
        "  x = v.reshape((20,1))\n",
        "  den = math.sqrt(abs(lambdas[index]*20))\n",
        "  u = np.dot(X,x)/den\n",
        "  U = np.append(U,u,axis = 1)\n",
        "  index += 1\n",
        "U = np.array(U) \n",
        "U = U[:,1:]"
      ],
      "metadata": {
        "id": "WAAwxmYzJMzW"
      },
      "execution_count": null,
      "outputs": []
    },
    {
      "cell_type": "markdown",
      "source": [
        "Applying PCA on happy images and sad images"
      ],
      "metadata": {
        "id": "IqntHrRaKxjl"
      }
    },
    {
      "cell_type": "code",
      "source": [
        "happyImages=np.transpose(happyImages)\n",
        "sadImages=np.transpose(sadImages)\n",
        "PCA_Happy = np.dot(U.T, happyImages)\n",
        "PCA_Sad = np.dot(U.T, sadImages)\n",
        "Xm_Happy = PCA_Happy.mean(axis=1)\n",
        "Xm_Sad = PCA_Sad.mean(axis=1)\n",
        "Xm_Happy = np.reshape(Xm_Happy,(k,1))\n",
        "Xm_Sad = np.reshape(Xm_Sad,(k,1))"
      ],
      "metadata": {
        "id": "32AGvLiy4Yse"
      },
      "execution_count": null,
      "outputs": []
    },
    {
      "cell_type": "markdown",
      "source": [
        "Doing LDA on images after PCA. Calculating between class covarince mtrix and within class covarince matrix"
      ],
      "metadata": {
        "id": "fyKEqWAfLHGc"
      }
    },
    {
      "cell_type": "code",
      "source": [
        "Sb = np.dot((Xm_Happy - Xm_Sad), (Xm_Happy.T - Xm_Sad.T))\n",
        "Sw = np.dot((PCA_Happy - Xm_Happy), np.transpose(PCA_Happy - Xm_Happy))/9 + np.dot((PCA_Sad - Xm_Sad), np.transpose(PCA_Sad - Xm_Sad))/11\n",
        "Swinv = np.linalg.inv(Sw)"
      ],
      "metadata": {
        "id": "IVsNmG9LB-Oz"
      },
      "execution_count": null,
      "outputs": []
    },
    {
      "cell_type": "markdown",
      "source": [
        "Finding W for maximum fisher ratio solution"
      ],
      "metadata": {
        "id": "xTFPz8LpMczV"
      }
    },
    {
      "cell_type": "code",
      "source": [
        "lambda_LDA_temp, W_temp = np.linalg.eigh(np.dot(Swinv, Sb))\n",
        "idx = lambda_LDA_temp.argsort()[::-1]\n",
        "sorted_Lambda_LDA = lambda_LDA_temp[idx]\n",
        "sorted_W = W_temp[:, idx]\n",
        "W = sorted_W[:,0]\n",
        "W = W.reshape((k,1))"
      ],
      "metadata": {
        "id": "3t9RMSD8DhPc"
      },
      "execution_count": null,
      "outputs": []
    },
    {
      "cell_type": "markdown",
      "source": [
        "Plotting the projected LDA data on 1 dimension and checking the class separation "
      ],
      "metadata": {
        "id": "wup1KuhGNXLN"
      }
    },
    {
      "cell_type": "code",
      "source": [
        "Happy_proj = np.dot(np.transpose(W), PCA_Happy)\n",
        "Sad_proj = np.dot(np.transpose(W), PCA_Sad)\n",
        "plt.scatter(Happy_proj ,np.zeros((9,), dtype = int),color = 'b') \n",
        "plt.scatter(Sad_proj ,np.zeros((11,),dtype = int), color = 'r') \n",
        "plt.show()\n"
      ],
      "metadata": {
        "colab": {
          "base_uri": "https://localhost:8080/",
          "height": 265
        },
        "id": "985hMCFf_YfL",
        "outputId": "7437c389-0cba-4264-81c8-43e8d89e2742"
      },
      "execution_count": null,
      "outputs": [
        {
          "output_type": "display_data",
          "data": {
            "image/png": "[encoded data removed]",
            "text/plain": [
              "<Figure size 432x288 with 1 Axes>"
            ]
          },
          "metadata": {
            "needs_background": "light"
          }
        }
      ]
    },
    {
      "cell_type": "markdown",
      "source": [
        "As we can see K=18 gives very good separatibility. Separatibility scatter plot for K=5,10,15,17,18,20 is attached at question end."
      ],
      "metadata": {
        "id": "eyon1e-tEzfF"
      }
    },
    {
      "cell_type": "markdown",
      "source": [
        "Reading the test data images"
      ],
      "metadata": {
        "id": "4qLfifa0NhnU"
      }
    },
    {
      "cell_type": "code",
      "source": [
        "test_happ_loc=['03','05','08','11','14','15']\n",
        "test_sad_loc=['01','08','14','15']\n",
        "test_images = []\n",
        "for i in test_happ_loc:\n",
        "  loc='drive/MyDrive/Data/emotion_classification/test/subject'+i+'.happy.gif'\n",
        "  img=Image.open(loc)\n",
        "  img1=img.resize((100,100))\n",
        "  img_arr=np.array(img1)\n",
        "  img_arr=img_arr.reshape(10000,)\n",
        "  test_images.append(img_arr)\n",
        "for i in test_sad_loc:\n",
        "  loc='drive/MyDrive/Data/emotion_classification/test/subject'+i+'.sad.gif'\n",
        "  img=Image.open(loc)\n",
        "  img1=img.resize((100,100))\n",
        "  img_arr=np.array(img1)\n",
        "  img_arr=img_arr.reshape(10000,)\n",
        "  test_images.append(img_arr)\n",
        "testImages=np.array(test_images)\n",
        "testImages = np.array(test_images)/255\n",
        "testImages = np.transpose(testImages)\n",
        "print(testImages.shape)\n",
        "print(U.shape)"
      ],
      "metadata": {
        "colab": {
          "base_uri": "https://localhost:8080/"
        },
        "id": "O1LxhYl5Hgn7",
        "outputId": "aade95ef-1191-4a5c-c940-21c864eeaecf"
      },
      "execution_count": null,
      "outputs": [
        {
          "output_type": "stream",
          "name": "stdout",
          "text": [
            "(10000, 10)\n",
            "(10000, 18)\n"
          ]
        }
      ]
    },
    {
      "cell_type": "markdown",
      "source": [
        "Performing PCA and LDA on test images and checking the classification accuracy. 100% classification accuracy achived for k=18. Classification accuracy of 100% achived using suitable separation point (val=0.8) on LDA projection. "
      ],
      "metadata": {
        "id": "-QGXgDUwNpk0"
      }
    },
    {
      "cell_type": "code",
      "source": [
        "PCA_test_images = np.dot(U.T, testImages)\n",
        "LDA_test_images = np.dot(W.T, PCA_test_images)\n",
        "index = 0\n",
        "for element in LDA_test_images.T:\n",
        "  index += 1 \n",
        "  if element >= 0.8:\n",
        "    print(f\"{index} is SAD \",end=\"\")\n",
        "    # sad_pred.append(element) \n",
        "  else :\n",
        "    print(f\"{index} is HAPPY \",end=\"\")\n",
        "    # happy_pred.append(element)\n",
        "  if index <= 6: # first 5 row-vectors are form HAPPy images\n",
        "    print(\",Actual status = HAPPY\") \n",
        "  else:\n",
        "    print(\",Actual status = SAD\")"
      ],
      "metadata": {
        "colab": {
          "base_uri": "https://localhost:8080/"
        },
        "id": "QD6OUEwQJyla",
        "outputId": "914921ea-6323-469a-861b-4f906440255f"
      },
      "execution_count": null,
      "outputs": [
        {
          "output_type": "stream",
          "name": "stdout",
          "text": [
            "1 is HAPPY ,Actual status = HAPPY\n",
            "2 is HAPPY ,Actual status = HAPPY\n",
            "3 is HAPPY ,Actual status = HAPPY\n",
            "4 is HAPPY ,Actual status = HAPPY\n",
            "5 is HAPPY ,Actual status = HAPPY\n",
            "6 is HAPPY ,Actual status = HAPPY\n",
            "7 is SAD ,Actual status = SAD\n",
            "8 is SAD ,Actual status = SAD\n",
            "9 is SAD ,Actual status = SAD\n",
            "10 is SAD ,Actual status = SAD\n"
          ]
        }
      ]
    },
    {
      "cell_type": "markdown",
      "source": [
        "Using K=18 and threshold value of 0.8 gave best resuls on data set. Even, K=15 and threshold = 0.6 gives 100% accurate resuls.\n",
        "\n",
        "Increasing K further also leads to increase in within class variance thus reducing the accuracy of separation as can be seen below. Because of high within class varince the data begins to overlap instead of separating. "
      ],
      "metadata": {
        "id": "oYleu2sxFI7s"
      }
    }
  ]
}